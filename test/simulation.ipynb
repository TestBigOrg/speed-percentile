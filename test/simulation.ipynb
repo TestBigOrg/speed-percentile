{
    "cells": [
        {
            "cell_type": "code",
            "execution_count": 11,
            "metadata": {
                "collapsed": true,
                "id": "f8c904ea-5858-4773-a281-b5597a7752c4",
                "focus": true
            },
            "outputs": [],
            "source": "import numpy as np\nfrom scipy.stats import uniform, norm, poisson\nfrom collections import Counter\nimport json, os, shutil\n\nimport matplotlib.pyplot as plt\nimport seaborn as sns\n\n%matplotlib inline"
        },
        {
            "cell_type": "code",
            "execution_count": 12,
            "metadata": {
                "collapsed": true,
                "id": "d20b1b98-6ed3-40b2-9497-a2e8e500d0c7",
                "focus": false
            },
            "outputs": [],
            "source": [
                "sns.set(font='Avenir', style='white')"
            ]
        },
        {
            "cell_type": "code",
            "execution_count": 13,
            "metadata": {
                "collapsed": false,
                "id": "e25b2584-8d6a-4165-812c-df54a50e4a81",
                "focus": false
            },
            "outputs": [],
            "source": [
                "size = int(20)\n",
                "dists = {'uniform': uniform(loc=50, scale=20), \n",
                "         'normal': norm(loc=50, scale=3), \n",
                "         'poisson': poisson(mu=50, loc=0)}"
            ]
        },
        {
            "cell_type": "code",
            "execution_count": 14,
            "metadata": {
                "collapsed": false,
                "id": "6df19ebf-8392-4526-896f-50671a26c93c",
                "focus": false
            },
            "outputs": [],
            "source": [
                "dir = './simulate_' + str(size) + '/'\n",
                "if os.path.exists(dir):\n",
                "    shutil.rmtree(dir)\n",
                "\n",
                "os.makedirs(dir)"
            ]
        },
        {
            "cell_type": "code",
            "execution_count": 15,
            "metadata": {
                "collapsed": false,
                "id": "cc55ee0a-e9ab-41cf-b430-f1f0a0d25ef3",
                "focus": false
            },
            "outputs": [
                {
                    "data": {
                        "image/png": "[encoded data removed]",
                        "text/plain": [
                            "<matplotlib.figure.Figure at 0x11a504890>"
                        ]
                    },
                    "metadata": {},
                    "output_type": "display_data"
                }
            ],
            "source": [
                "fig = plt.figure(figsize=(16,6))\n",
                "\n",
                "i = 0\n",
                "for name,dist in dists.iteritems():\n",
                "    i += 1\n",
                "    \n",
                "    # simulate observed speeds\n",
                "    rnd = dist.rvs(size)\n",
                "    ax = fig.add_subplot(1,3,i)\n",
                "    ax.hist(rnd, bins=50)\n",
                "    ax.set_title(name)\n",
                "    \n",
                "    # create daily increment histogram\n",
                "    rnd = np.round(rnd).astype(int)\n",
                "    ctr = Counter(rnd)\n",
                "    with open(dir + name, 'w') as outfile:\n",
                "        json.dump(ctr, outfile)\n",
                "\n",
                "plt.suptitle('sample size = ' + str(size), size=20)\n",
                "plt.subplots_adjust(top=0.85)\n",
                "\n",
                "plt.savefig(dir + 'histograms.png', dpi=300)"
            ]
        },
        {
            "cell_type": "code",
            "execution_count": null,
            "metadata": {
                "collapsed": true,
                "id": "532b1037-e93f-49bd-aed4-cf026dd95d10",
                "focus": false
            },
            "outputs": [],
            "source": []
        }
    ],
    "metadata": {
        "kernelspec": {
            "display_name": "Python 2",
            "language": "python",
            "name": "python2"
        },
        "language_info": {
            "codemirror_mode": {
                "name": "ipython",
                "version": 2
            },
            "file_extension": ".py",
            "mimetype": "text/x-python",
            "name": "python",
            "nbconvert_exporter": "python",
            "pygments_lexer": "ipython2",
            "version": "2.7.11"
        }
    },
    "nbformat": 4,
    "nbformat_minor": 0
}